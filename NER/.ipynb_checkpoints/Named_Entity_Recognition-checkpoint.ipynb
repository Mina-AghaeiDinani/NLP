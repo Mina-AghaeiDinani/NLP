{
 "cells": [
  {
   "cell_type": "code",
   "execution_count": 26,
   "id": "396c125b-847b-4fd4-a24c-b36531099e40",
   "metadata": {},
   "outputs": [],
   "source": [
    "import spacy\n",
    "nlp = spacy.load('en_core_web_sm')\n"
   ]
  },
  {
   "cell_type": "code",
   "execution_count": 27,
   "id": "aa3f476d-b39f-41fb-b8ae-3cded8ee95ca",
   "metadata": {},
   "outputs": [
    {
     "data": {
      "text/plain": [
       "['tok2vec', 'tagger', 'parser', 'attribute_ruler', 'lemmatizer', 'ner']"
      ]
     },
     "execution_count": 27,
     "metadata": {},
     "output_type": "execute_result"
    }
   ],
   "source": [
    "nlp.pipe_names"
   ]
  },
  {
   "cell_type": "code",
   "execution_count": 49,
   "id": "cca4cfdd-b03e-4bf9-8363-6f8c9c6139aa",
   "metadata": {},
   "outputs": [
    {
     "name": "stdout",
     "output_type": "stream",
     "text": [
      "Tesla ¦ ORG ¦ Companies, agencies, institutions, etc.\n",
      "Twitter ¦ PERSON ¦ People, including fictional\n",
      "$45 billion ¦ MONEY ¦ Monetary values, including unit\n"
     ]
    }
   ],
   "source": [
    "doc = nlp ('Tesla is going to acquire Twitter  for $45 billion')\n",
    "for ent in doc.ents:\n",
    "    print(ent.text, '¦', ent.label_, '¦', spacy.explain(ent.label_))"
   ]
  },
  {
   "cell_type": "code",
   "execution_count": 50,
   "id": "a6590791-8ad7-420c-a4de-ceb9c998d4fd",
   "metadata": {},
   "outputs": [],
   "source": [
    "from spacy import displacy"
   ]
  },
  {
   "cell_type": "code",
   "execution_count": 51,
   "id": "60f6aaa9-36a8-40a8-a011-fe285829d947",
   "metadata": {},
   "outputs": [
    {
     "data": {
      "text/html": [
       "<div class=\"entities\" style=\"line-height: 2.5; direction: ltr\">\n",
       "<mark class=\"entity\" style=\"background: #7aecec; padding: 0.45em 0.6em; margin: 0 0.25em; line-height: 1; border-radius: 0.35em;\">\n",
       "    Tesla\n",
       "    <span style=\"font-size: 0.8em; font-weight: bold; line-height: 1; border-radius: 0.35em; vertical-align: middle; margin-left: 0.5rem\">ORG</span>\n",
       "</mark>\n",
       " is going to acquire \n",
       "<mark class=\"entity\" style=\"background: #aa9cfc; padding: 0.45em 0.6em; margin: 0 0.25em; line-height: 1; border-radius: 0.35em;\">\n",
       "    Twitter\n",
       "    <span style=\"font-size: 0.8em; font-weight: bold; line-height: 1; border-radius: 0.35em; vertical-align: middle; margin-left: 0.5rem\">PERSON</span>\n",
       "</mark>\n",
       "  for \n",
       "<mark class=\"entity\" style=\"background: #e4e7d2; padding: 0.45em 0.6em; margin: 0 0.25em; line-height: 1; border-radius: 0.35em;\">\n",
       "    $45 billion\n",
       "    <span style=\"font-size: 0.8em; font-weight: bold; line-height: 1; border-radius: 0.35em; vertical-align: middle; margin-left: 0.5rem\">MONEY</span>\n",
       "</mark>\n",
       "</div>"
      ],
      "text/plain": [
       "<IPython.core.display.HTML object>"
      ]
     },
     "metadata": {},
     "output_type": "display_data"
    }
   ],
   "source": [
    "html = displacy.render(doc, style=\"ent\", jupyter=False)\n",
    "display(HTML(html))  # ✅ Safely works in IPython ≥ 9"
   ]
  },
  {
   "cell_type": "markdown",
   "id": "cc0f7351-25ce-4384-a8c0-c730cac43f39",
   "metadata": {},
   "source": [
    "## What entities spacy supports with the above pretrained model"
   ]
  },
  {
   "cell_type": "code",
   "execution_count": 52,
   "id": "fb31de91-f5ef-4e31-95c3-782ada148a07",
   "metadata": {},
   "outputs": [
    {
     "data": {
      "text/plain": [
       "['CARDINAL',\n",
       " 'DATE',\n",
       " 'EVENT',\n",
       " 'FAC',\n",
       " 'GPE',\n",
       " 'LANGUAGE',\n",
       " 'LAW',\n",
       " 'LOC',\n",
       " 'MONEY',\n",
       " 'NORP',\n",
       " 'ORDINAL',\n",
       " 'ORG',\n",
       " 'PERCENT',\n",
       " 'PERSON',\n",
       " 'PRODUCT',\n",
       " 'QUANTITY',\n",
       " 'TIME',\n",
       " 'WORK_OF_ART']"
      ]
     },
     "execution_count": 52,
     "metadata": {},
     "output_type": "execute_result"
    }
   ],
   "source": [
    "nlp.pipe_labels['ner']"
   ]
  },
  {
   "cell_type": "markdown",
   "id": "1dbb680a-3c08-4c04-af31-c476926c773e",
   "metadata": {},
   "source": [
    "## Customizing entities"
   ]
  },
  {
   "cell_type": "code",
   "execution_count": 53,
   "id": "e09fc5ac-09ff-470f-8099-474c70fe19d6",
   "metadata": {},
   "outputs": [
    {
     "data": {
      "text/plain": [
       "spacy.tokens.span.Span"
      ]
     },
     "execution_count": 53,
     "metadata": {},
     "output_type": "execute_result"
    }
   ],
   "source": [
    "# In the above example Twitter was name of a person however it is a ORG\n",
    "type(doc[0:1])"
   ]
  },
  {
   "cell_type": "code",
   "execution_count": 56,
   "id": "57eb59b2-cbc5-4a1d-abb6-7c6252eb9104",
   "metadata": {},
   "outputs": [],
   "source": [
    "from spacy.tokens import Span\n",
    "s1 = Span (doc, 0,1, label= 'ORG')\n",
    "s2 = Span (doc, 5,6, label= 'ORG')\n",
    "\n",
    "doc.set_ents([s1,s2], default='unmodified')"
   ]
  },
  {
   "cell_type": "code",
   "execution_count": 57,
   "id": "a2f74ef8-f5da-4593-9823-cd08ac045e90",
   "metadata": {},
   "outputs": [
    {
     "data": {
      "text/html": [
       "<div class=\"entities\" style=\"line-height: 2.5; direction: ltr\">\n",
       "<mark class=\"entity\" style=\"background: #7aecec; padding: 0.45em 0.6em; margin: 0 0.25em; line-height: 1; border-radius: 0.35em;\">\n",
       "    Tesla\n",
       "    <span style=\"font-size: 0.8em; font-weight: bold; line-height: 1; border-radius: 0.35em; vertical-align: middle; margin-left: 0.5rem\">ORG</span>\n",
       "</mark>\n",
       " is going to acquire \n",
       "<mark class=\"entity\" style=\"background: #7aecec; padding: 0.45em 0.6em; margin: 0 0.25em; line-height: 1; border-radius: 0.35em;\">\n",
       "    Twitter\n",
       "    <span style=\"font-size: 0.8em; font-weight: bold; line-height: 1; border-radius: 0.35em; vertical-align: middle; margin-left: 0.5rem\">ORG</span>\n",
       "</mark>\n",
       "  for \n",
       "<mark class=\"entity\" style=\"background: #e4e7d2; padding: 0.45em 0.6em; margin: 0 0.25em; line-height: 1; border-radius: 0.35em;\">\n",
       "    $45 billion\n",
       "    <span style=\"font-size: 0.8em; font-weight: bold; line-height: 1; border-radius: 0.35em; vertical-align: middle; margin-left: 0.5rem\">MONEY</span>\n",
       "</mark>\n",
       "</div>"
      ],
      "text/plain": [
       "<IPython.core.display.HTML object>"
      ]
     },
     "metadata": {},
     "output_type": "display_data"
    }
   ],
   "source": [
    "html = displacy.render(doc, style=\"ent\", jupyter=False)\n",
    "display(HTML(html)) "
   ]
  },
  {
   "cell_type": "markdown",
   "id": "5c5917fd-93e6-4ecb-8dd6-1e8d6823939c",
   "metadata": {},
   "source": [
    "### Building my own NER\n",
    "- Simple lookup  \n",
    "- Rule-based NER  \n",
    "- Machine Learning:  \n",
    "    1. CRF (Conditional Random Fields)  \n",
    "    2. BERT\n",
    "\n"
   ]
  },
  {
   "cell_type": "code",
   "execution_count": null,
   "id": "957317d9-2282-4cab-898b-9eab8d73d929",
   "metadata": {},
   "outputs": [],
   "source": []
  }
 ],
 "metadata": {
  "kernelspec": {
   "display_name": "Python 3 (ipykernel)",
   "language": "python",
   "name": "python3"
  },
  "language_info": {
   "codemirror_mode": {
    "name": "ipython",
    "version": 3
   },
   "file_extension": ".py",
   "mimetype": "text/x-python",
   "name": "python",
   "nbconvert_exporter": "python",
   "pygments_lexer": "ipython3",
   "version": "3.13.5"
  }
 },
 "nbformat": 4,
 "nbformat_minor": 5
}
