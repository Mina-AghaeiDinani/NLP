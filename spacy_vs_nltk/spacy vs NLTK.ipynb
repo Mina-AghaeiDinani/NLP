{
 "cells": [
  {
   "cell_type": "code",
   "execution_count": null,
   "id": "41dfd83e-ad8a-43d9-8741-612e5b1792ed",
   "metadata": {},
   "outputs": [],
   "source": [
    "import spacy"
   ]
  },
  {
   "cell_type": "code",
   "execution_count": null,
   "id": "d00c191d-7987-43dc-b42c-12c1f64270c9",
   "metadata": {},
   "outputs": [],
   "source": [
    "nlp =    spacy.load('en_core_web_sm')\n",
    "doc = nlp('Dr. st loves tahdig, etc. and love it. Hulk loves street food')\n",
    "\n",
    "# sentence and word tokenization\n",
    "for sentence in doc.sents:\n",
    "    print(sentence)\n",
    "    for word in sentence:\n",
    "        print(word)"
   ]
  },
  {
   "cell_type": "code",
   "execution_count": null,
   "id": "80c75c89-7df8-4cbd-a224-8c3a46650338",
   "metadata": {},
   "outputs": [],
   "source": [
    "import nltk\n",
    "nltk.download('punkt')"
   ]
  },
  {
   "cell_type": "code",
   "execution_count": null,
   "id": "d489abec-b9c8-4c59-b458-2308c8eab2ba",
   "metadata": {},
   "outputs": [],
   "source": [
    "from nltk.tokenize import  sent_tokenize"
   ]
  },
  {
   "cell_type": "code",
   "execution_count": null,
   "id": "c6beb811-6621-4c31-92e0-1d736d686fa7",
   "metadata": {},
   "outputs": [],
   "source": [
    "sent_tokenize('Dr. st loves tahdig, etc. and love it. Hulk loves street food')\n"
   ]
  },
  {
   "cell_type": "code",
   "execution_count": null,
   "id": "afcf26ae-4a29-4fb4-8469-a2ad036b026c",
   "metadata": {},
   "outputs": [],
   "source": [
    "from nltk.tokenize import word_"
   ]
  },
  {
   "cell_type": "code",
   "execution_count": null,
   "id": "7936cdd9-0cba-4d93-b600-ca9e5493f458",
   "metadata": {},
   "outputs": [],
   "source": []
  }
 ],
 "metadata": {
  "kernelspec": {
   "display_name": "Python 3 (ipykernel)",
   "language": "python",
   "name": "python3"
  },
  "language_info": {
   "codemirror_mode": {
    "name": "ipython",
    "version": 3
   },
   "file_extension": ".py",
   "mimetype": "text/x-python",
   "name": "python",
   "nbconvert_exporter": "python",
   "pygments_lexer": "ipython3",
   "version": "3.13.5"
  }
 },
 "nbformat": 4,
 "nbformat_minor": 5
}
