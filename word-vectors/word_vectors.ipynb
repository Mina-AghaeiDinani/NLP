{
 "cells": [
  {
   "cell_type": "code",
   "execution_count": 4,
   "id": "c97be711-3896-4f7a-bb98-77da353094b7",
   "metadata": {},
   "outputs": [],
   "source": [
    "import spacy\n",
    "nlp = spacy.load('en_core_web_lg') # It has in-bulid vector"
   ]
  },
  {
   "cell_type": "code",
   "execution_count": 12,
   "id": "09e191fd-ea37-4b4d-8961-7bcd8044701b",
   "metadata": {},
   "outputs": [
    {
     "name": "stdout",
     "output_type": "stream",
     "text": [
      "dog , vector :  True , OOV :  False\n",
      "cat , vector :  True , OOV :  False\n",
      "banana , vector :  True , OOV :  False\n",
      "mina , vector :  True , OOV :  False\n",
      "makni , vector :  False , OOV :  True\n"
     ]
    }
   ],
   "source": [
    "doc = nlp('dog cat banana mina makni') # the dataset is some popular text and the words that are not commonly used (or nonsense words) are OOV\n",
    "\n",
    "for token in doc:\n",
    "    print(token.text, ', vector : ', token.has_vector, ', OOV : ', token.is_oov)"
   ]
  },
  {
   "cell_type": "code",
   "execution_count": 13,
   "id": "20ad1b2a-f0c3-430e-9375-bbe8fcac1786",
   "metadata": {},
   "outputs": [
    {
     "name": "stdout",
     "output_type": "stream",
     "text": [
      "(300,)\n",
      "(300,)\n"
     ]
    }
   ],
   "source": [
    "print(doc[0].vector.shape) # word vector\n",
    "print(doc.vector.shape) # sentence vector, average of individula vector"
   ]
  },
  {
   "cell_type": "code",
   "execution_count": 15,
   "id": "d03798c7-529e-41c0-9489-b7d674c21847",
   "metadata": {},
   "outputs": [
    {
     "data": {
      "text/plain": [
       "(300,)"
      ]
     },
     "execution_count": 15,
     "metadata": {},
     "output_type": "execute_result"
    }
   ],
   "source": [
    "base_token = nlp('bread')\n",
    "base_token.vector.shape"
   ]
  },
  {
   "cell_type": "code",
   "execution_count": 20,
   "id": "5ee0ebdd-4370-4dc5-b33e-faee84d42c9d",
   "metadata": {},
   "outputs": [
    {
     "name": "stdout",
     "output_type": "stream",
     "text": [
      "sandwich <-> bread 0.6874560117721558\n",
      "burger <-> bread 0.544037401676178\n",
      "mina <-> bread 0.07565980404615402\n",
      "cat <-> bread 0.2576093375682831\n",
      "butter <-> bread 0.7272146940231323\n",
      "tiger <-> bread 0.14492356777191162\n"
     ]
    }
   ],
   "source": [
    "doc = nlp ('sandwich burger mina cat butter tiger')\n",
    "\n",
    "for token in doc:\n",
    "    print(f'{token.text} <-> {base_token.text}', token.similarity(base_token)) # similarity means they appear in the same content"
   ]
  },
  {
   "cell_type": "code",
   "execution_count": 27,
   "id": "c1e9b40b-6919-461d-8cc9-cc7a4539f7b5",
   "metadata": {},
   "outputs": [],
   "source": [
    "def print_similarity(base_word, words_to_compare):\n",
    "    base_token = nlp(base_word)\n",
    "    doc = nlp(words_to_compare)\n",
    "    for token in doc:\n",
    "        print(f'{token.text} <-> {base_token.text}', token.similarity(base_token)) # similarity means they appear in the same content"
   ]
  },
  {
   "cell_type": "code",
   "execution_count": 28,
   "id": "dcd0e31e-0236-4170-9b3e-5a4a9de1ef19",
   "metadata": {},
   "outputs": [
    {
     "name": "stdout",
     "output_type": "stream",
     "text": [
      "good <-> Mina -0.025241807103157043\n",
      "bad <-> Mina -0.016991974785923958\n",
      "ambitious <-> Mina -0.0711517184972763\n",
      "jealous <-> Mina 0.08350173383951187\n",
      "cat <-> Mina 0.06114118918776512\n",
      "dog <-> Mina 0.02740827202796936\n",
      "yvan <-> Mina 0.09412095695734024\n"
     ]
    }
   ],
   "source": [
    "print_similarity('Mina', 'good bad ambitious jealous cat dog yvan')\n"
   ]
  },
  {
   "cell_type": "code",
   "execution_count": 32,
   "id": "5399f5d2-d5dc-41e7-bd1b-fbe06046d52a",
   "metadata": {},
   "outputs": [],
   "source": [
    "# simple example of queen and king to check cosine similarity among vectors\n",
    "king = nlp.vocab['king'].vector\n",
    "man = nlp.vocab['man'].vector\n",
    "woman = nlp.vocab['woman'].vector\n",
    "queen = nlp.vocab['queen'].vector\n",
    "\n",
    "result = king - man + woman"
   ]
  },
  {
   "cell_type": "code",
   "execution_count": 33,
   "id": "ad5b42e9-3927-41a1-ae28-58f19b5308fe",
   "metadata": {},
   "outputs": [
    {
     "data": {
      "text/plain": [
       "array([[0.78808445]], dtype=float32)"
      ]
     },
     "execution_count": 33,
     "metadata": {},
     "output_type": "execute_result"
    }
   ],
   "source": [
    "from sklearn.metrics.pairwise import cosine_similarity\n",
    "\n",
    "cosine_similarity([result], [queen])"
   ]
  },
  {
   "cell_type": "code",
   "execution_count": null,
   "id": "7e9a9365-1e7a-4153-9f35-14310d2fbe77",
   "metadata": {},
   "outputs": [],
   "source": []
  }
 ],
 "metadata": {
  "kernelspec": {
   "display_name": "Python 3 (ipykernel)",
   "language": "python",
   "name": "python3"
  },
  "language_info": {
   "codemirror_mode": {
    "name": "ipython",
    "version": 3
   },
   "file_extension": ".py",
   "mimetype": "text/x-python",
   "name": "python",
   "nbconvert_exporter": "python",
   "pygments_lexer": "ipython3",
   "version": "3.13.5"
  }
 },
 "nbformat": 4,
 "nbformat_minor": 5
}
