{
 "cells": [
  {
   "cell_type": "code",
   "execution_count": 1,
   "id": "7500cb0d-99bd-4c88-b659-0a1cd009927a",
   "metadata": {},
   "outputs": [],
   "source": [
    "import spacy"
   ]
  },
  {
   "cell_type": "code",
   "execution_count": 4,
   "id": "de958819-7d2f-4b8f-900b-031e8874b32f",
   "metadata": {},
   "outputs": [],
   "source": [
    "nlp = spacy.load('en_core_web_sm')"
   ]
  },
  {
   "cell_type": "code",
   "execution_count": 18,
   "id": "8ee27173-a813-4490-846a-d77ef701f2a3",
   "metadata": {},
   "outputs": [],
   "source": [
    "doc = nlp('Mina is a nice person who studies a lot, and she is succesful.')"
   ]
  },
  {
   "cell_type": "code",
   "execution_count": 19,
   "id": "8401780d-261c-440b-8c68-9a93ec7597bc",
   "metadata": {},
   "outputs": [
    {
     "name": "stdout",
     "output_type": "stream",
     "text": [
      "Mina ¦ PROPN ¦ proper noun ¦ NNP ¦ noun, proper singular\n",
      "is ¦ AUX ¦ auxiliary ¦ VBZ ¦ verb, 3rd person singular present\n",
      "a ¦ DET ¦ determiner ¦ DT ¦ determiner\n",
      "nice ¦ ADJ ¦ adjective ¦ JJ ¦ adjective (English), other noun-modifier (Chinese)\n",
      "person ¦ NOUN ¦ noun ¦ NN ¦ noun, singular or mass\n",
      "who ¦ PRON ¦ pronoun ¦ WP ¦ wh-pronoun, personal\n",
      "studies ¦ VERB ¦ verb ¦ VBZ ¦ verb, 3rd person singular present\n",
      "a ¦ DET ¦ determiner ¦ DT ¦ determiner\n",
      "lot ¦ NOUN ¦ noun ¦ NN ¦ noun, singular or mass\n",
      ", ¦ PUNCT ¦ punctuation ¦ , ¦ punctuation mark, comma\n",
      "and ¦ CCONJ ¦ coordinating conjunction ¦ CC ¦ conjunction, coordinating\n",
      "she ¦ PRON ¦ pronoun ¦ PRP ¦ pronoun, personal\n",
      "is ¦ AUX ¦ auxiliary ¦ VBZ ¦ verb, 3rd person singular present\n",
      "succesful ¦ ADJ ¦ adjective ¦ JJ ¦ adjective (English), other noun-modifier (Chinese)\n",
      ". ¦ PUNCT ¦ punctuation ¦ . ¦ punctuation mark, sentence closer\n"
     ]
    }
   ],
   "source": [
    "for token in doc:\n",
    "    print (token ,'¦', token.pos_,'¦', spacy.explain(token.pos_),'¦', token.tag_ ,'¦', spacy.explain(token.tag_))"
   ]
  },
  {
   "cell_type": "markdown",
   "id": "a5f49354-3f66-4f25-9ad8-291391ba3d68",
   "metadata": {},
   "source": [
    "## Remove extra characters such as spaces, punctuations, etc.,  from the following text.\n"
   ]
  },
  {
   "cell_type": "code",
   "execution_count": 20,
   "id": "ec47cb0c-c7f5-4400-ac86-1431d2c58a3a",
   "metadata": {},
   "outputs": [],
   "source": [
    "news  = '''\n",
    "Trump says both Iran and Israel violated ceasefire\n",
    "published at 13:28\n",
    "We can bring you more from Trump's comments on Iran and Israel a little earlier.\n",
    "\n",
    "The president went on to say that both Iran and Israel violated the ceasefire he announced.\n",
    "\n",
    "\"I'm not sure they did it intentionally,\" the president says. \"I don't like the fact that Israel went out this morning at all. And I'm going to see if I can stop it.\"\n",
    "\n",
    "He says Iran \"will never rebuild its nuclear\" capabilities and adds that he's \"not happy with Iran either\".\n",
    "'''"
   ]
  },
  {
   "cell_type": "code",
   "execution_count": 21,
   "id": "7851c273-6c5d-4fc4-a6ef-3ac32f90877b",
   "metadata": {},
   "outputs": [],
   "source": [
    "doc = nlp (news)"
   ]
  },
  {
   "cell_type": "code",
   "execution_count": 22,
   "id": "9678c354-1c78-4f7b-9aa6-fa8c71069bcc",
   "metadata": {},
   "outputs": [
    {
     "data": {
      "text/plain": [
       "[Trump,\n",
       " says,\n",
       " both,\n",
       " Iran,\n",
       " and,\n",
       " Israel,\n",
       " violated,\n",
       " ceasefire,\n",
       " published,\n",
       " at,\n",
       " 13:28,\n",
       " We,\n",
       " can,\n",
       " bring,\n",
       " you,\n",
       " more,\n",
       " from,\n",
       " Trump,\n",
       " 's,\n",
       " comments,\n",
       " on,\n",
       " Iran,\n",
       " and,\n",
       " Israel,\n",
       " a,\n",
       " little,\n",
       " earlier,\n",
       " .,\n",
       " The,\n",
       " president]"
      ]
     },
     "execution_count": 22,
     "metadata": {},
     "output_type": "execute_result"
    }
   ],
   "source": [
    "filtered_tokens = []\n",
    "for token in doc:\n",
    "    if token.pos_  not in ['SPACE', 'X', 'PUNC']:\n",
    "        filtered_tokens.append(token)\n",
    "filtered_tokens[:30]"
   ]
  },
  {
   "cell_type": "markdown",
   "id": "f8512ae7-eec9-466f-b7ae-93da14bfa466",
   "metadata": {},
   "source": [
    "### Print a count of all POS tags"
   ]
  },
  {
   "cell_type": "code",
   "execution_count": 26,
   "id": "97a50c77-5827-49ff-85bc-22fbf45e8db5",
   "metadata": {},
   "outputs": [
    {
     "data": {
      "text/plain": [
       "{103: 7,\n",
       " 96: 11,\n",
       " 100: 18,\n",
       " 89: 7,\n",
       " 92: 8,\n",
       " 85: 6,\n",
       " 93: 1,\n",
       " 95: 13,\n",
       " 87: 7,\n",
       " 86: 7,\n",
       " 94: 6,\n",
       " 90: 6,\n",
       " 84: 4,\n",
       " 97: 15,\n",
       " 98: 4}"
      ]
     },
     "execution_count": 26,
     "metadata": {},
     "output_type": "execute_result"
    }
   ],
   "source": [
    "count = doc.count_by(spacy.attrs.POS)\n",
    "count"
   ]
  },
  {
   "cell_type": "code",
   "execution_count": 28,
   "id": "cd003c58-3780-48ce-a9cf-be75c24b7800",
   "metadata": {},
   "outputs": [
    {
     "name": "stdout",
     "output_type": "stream",
     "text": [
      "SPACE ¦ 7\n",
      "PROPN ¦ 11\n",
      "VERB ¦ 18\n",
      "CCONJ ¦ 7\n",
      "NOUN ¦ 8\n",
      "ADP ¦ 6\n",
      "NUM ¦ 1\n",
      "PRON ¦ 13\n",
      "AUX ¦ 7\n",
      "ADV ¦ 7\n",
      "PART ¦ 6\n",
      "DET ¦ 6\n",
      "ADJ ¦ 4\n",
      "PUNCT ¦ 15\n",
      "SCONJ ¦ 4\n"
     ]
    }
   ],
   "source": [
    "# Better understanding what the above text tell us\n",
    "for k,v in count.items():\n",
    "    print(doc.vocab[k].text, '¦', v)\n",
    "    "
   ]
  },
  {
   "cell_type": "markdown",
   "id": "9c82cb95-d665-49da-bd56-bd549faca926",
   "metadata": {},
   "source": [
    "\n",
    "### Extract NOUN and NUM tokens"
   ]
  },
  {
   "cell_type": "code",
   "execution_count": 30,
   "id": "73ba8cff-5deb-4716-b85d-31228e22cb00",
   "metadata": {},
   "outputs": [
    {
     "name": "stdout",
     "output_type": "stream",
     "text": [
      "[13:28]\n",
      "[ceasefire, comments, president, ceasefire, president, fact, morning, capabilities]\n"
     ]
    }
   ],
   "source": [
    "doc = nlp(news)\n",
    "\n",
    "numeral_tokens = []\n",
    "noun_tokens = []\n",
    "\n",
    "for token in doc:\n",
    "    if token.pos_ == \"NOUN\":\n",
    "        noun_tokens.append(token)\n",
    "    elif token.pos_ == 'NUM':\n",
    "        numeral_tokens.append(token)\n",
    "print (numeral_tokens[:10])\n",
    "print(noun_tokens[:10])"
   ]
  },
  {
   "cell_type": "code",
   "execution_count": null,
   "id": "0bdcf26d-cc6e-441c-b3f1-622d70c7c1d4",
   "metadata": {},
   "outputs": [],
   "source": []
  }
 ],
 "metadata": {
  "kernelspec": {
   "display_name": "Python 3 (ipykernel)",
   "language": "python",
   "name": "python3"
  },
  "language_info": {
   "codemirror_mode": {
    "name": "ipython",
    "version": 3
   },
   "file_extension": ".py",
   "mimetype": "text/x-python",
   "name": "python",
   "nbconvert_exporter": "python",
   "pygments_lexer": "ipython3",
   "version": "3.13.5"
  }
 },
 "nbformat": 4,
 "nbformat_minor": 5
}
