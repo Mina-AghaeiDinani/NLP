{
 "cells": [
  {
   "cell_type": "code",
   "execution_count": 1,
   "id": "7500cb0d-99bd-4c88-b659-0a1cd009927a",
   "metadata": {},
   "outputs": [],
   "source": [
    "import spacy"
   ]
  },
  {
   "cell_type": "code",
   "execution_count": 4,
   "id": "de958819-7d2f-4b8f-900b-031e8874b32f",
   "metadata": {},
   "outputs": [],
   "source": [
    "nlp = spacy.load('en_core_web_sm')"
   ]
  },
  {
   "cell_type": "code",
   "execution_count": 5,
   "id": "8ee27173-a813-4490-846a-d77ef701f2a3",
   "metadata": {},
   "outputs": [],
   "source": [
    "doc = nlp('Mina is a nice person who studies a lot')"
   ]
  },
  {
   "cell_type": "code",
   "execution_count": 9,
   "id": "8401780d-261c-440b-8c68-9a93ec7597bc",
   "metadata": {},
   "outputs": [
    {
     "name": "stdout",
     "output_type": "stream",
     "text": [
      "Mina ¦ PROPN ¦ proper noun ¦ NNP ¦ noun, proper singular\n",
      "is ¦ AUX ¦ auxiliary ¦ VBZ ¦ verb, 3rd person singular present\n",
      "a ¦ DET ¦ determiner ¦ DT ¦ determiner\n",
      "nice ¦ ADJ ¦ adjective ¦ JJ ¦ adjective (English), other noun-modifier (Chinese)\n",
      "person ¦ NOUN ¦ noun ¦ NN ¦ noun, singular or mass\n",
      "who ¦ PRON ¦ pronoun ¦ WP ¦ wh-pronoun, personal\n",
      "studies ¦ VERB ¦ verb ¦ VBZ ¦ verb, 3rd person singular present\n",
      "a ¦ DET ¦ determiner ¦ DT ¦ determiner\n",
      "lot ¦ NOUN ¦ noun ¦ NN ¦ noun, singular or mass\n"
     ]
    }
   ],
   "source": [
    "for token in doc:\n",
    "    print (token ,'¦', token.pos_,'¦', spacy.explain(token.pos_),'¦', token.tag_ ,'¦', spacy.explain(token.tag_))"
   ]
  },
  {
   "cell_type": "markdown",
   "id": "a5f49354-3f66-4f25-9ad8-291391ba3d68",
   "metadata": {},
   "source": [
    "## Remove extra characters such as spaces, punctuations, etc.,  from the following text.\n"
   ]
  },
  {
   "cell_type": "code",
   "execution_count": null,
   "id": "ec47cb0c-c7f5-4400-ac86-1431d2c58a3a",
   "metadata": {},
   "outputs": [],
   "source": []
  }
 ],
 "metadata": {
  "kernelspec": {
   "display_name": "Python 3 (ipykernel)",
   "language": "python",
   "name": "python3"
  },
  "language_info": {
   "codemirror_mode": {
    "name": "ipython",
    "version": 3
   },
   "file_extension": ".py",
   "mimetype": "text/x-python",
   "name": "python",
   "nbconvert_exporter": "python",
   "pygments_lexer": "ipython3",
   "version": "3.13.5"
  }
 },
 "nbformat": 4,
 "nbformat_minor": 5
}
